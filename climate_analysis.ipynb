{
 "cells": [
  {
   "cell_type": "markdown",
   "metadata": {
    "collapsed": true
   },
   "source": [
    "# Climatic Analysis\n",
    "Performing climatic analysis of Hawaii based on the temperature recorded on different stations"
   ]
  },
  {
   "cell_type": "code",
   "execution_count": 2,
   "metadata": {
    "collapsed": true
   },
   "outputs": [],
   "source": [
    "# Python SQL toolkit and Object Relational Mapper\n",
    "import sqlalchemy\n",
    "from sqlalchemy.sql import label\n",
    "from sqlalchemy import func\n",
    "from sqlalchemy.ext.automap import automap_base\n",
    "from sqlalchemy.orm import Session\n",
    "from sqlalchemy import create_engine\n",
    "import pandas as pd\n",
    "from sqlalchemy import Column, Integer, String, Numeric, Text, Float,Table,ForeignKey\n",
    "from flask import jsonify\n",
    "\n",
    "import matplotlib.pyplot as plt\n",
    "from matplotlib import cm\n",
    "import matplotlib\n",
    "\n",
    "from datetime import datetime,timedelta"
   ]
  },
  {
   "cell_type": "code",
   "execution_count": 3,
   "metadata": {
    "collapsed": true
   },
   "outputs": [],
   "source": [
    "#Create engine,Reflect Database into ORM classes and map tables\n",
    "engine = create_engine(\"sqlite:///hawaii.sqlite\")\n",
    "Base = automap_base()\n",
    "Base.prepare(engine, reflect=True)\n",
    "Base.classes.keys()\n",
    "\n",
    "Measurements = Base.classes.measurements\n",
    "Stations = Base.classes.stations\n"
   ]
  },
  {
   "cell_type": "code",
   "execution_count": 4,
   "metadata": {
    "collapsed": true
   },
   "outputs": [],
   "source": [
    "# create a session\n",
    "session = Session(engine)\n",
    "\n",
    "my_table = Table('Measurements', Base.metadata, \n",
    "    Column(\"station\", String, ForeignKey(\"Stations.station\")),\n",
    "    autoload=True,autoload_with=engine)"
   ]
  },
  {
   "cell_type": "markdown",
   "metadata": {},
   "source": [
    "### Precipitation Analysis"
   ]
  },
  {
   "cell_type": "code",
   "execution_count": 5,
   "metadata": {},
   "outputs": [
    {
     "name": "stdout",
     "output_type": "stream",
     "text": [
      "('2010-01-01', 0.08)\n",
      "('2010-01-02', 0.0)\n",
      "('2010-01-03', 0.0)\n",
      "('2010-01-04', 0.0)\n",
      "('2010-01-06', 0.0)\n",
      "('2010-01-07', 0.06)\n",
      "('2010-01-08', 0.0)\n",
      "('2010-01-09', 0.0)\n",
      "('2010-01-10', 0.0)\n",
      "('2010-01-11', 0.01)\n"
     ]
    }
   ],
   "source": [
    "#Test the return values\n",
    "measurements_year = session.query(Measurements.date,Measurements.prcp).limit(10).all()\n",
    "for mammal in measurements_year:\n",
    "    print(mammal)"
   ]
  },
  {
   "cell_type": "code",
   "execution_count": 6,
   "metadata": {
    "collapsed": true
   },
   "outputs": [],
   "source": [
    "def precipitation_data():\n",
    "    #Get date for last year \n",
    "    current_time = datetime.now()\n",
    "    past_year = current_time - timedelta(days=365)\n",
    "    measurements_year = session.query(Measurements.date,Measurements.prcp).filter(Measurements.date > past_year).all()\n",
    "    \n",
    "    #created dictionary to get the data\n",
    "    measure_records = []\n",
    "    for measure in measurements_year:\n",
    "        measure_records.append(measure._asdict())\n",
    "    \n",
    "    #dictionary to dataframe\n",
    "    measurements_df = pd.DataFrame.from_records(measure_records)\n",
    "    measurements_df = measurements_df.set_index('date')\n",
    "\n",
    "    return measurements_df"
   ]
  },
  {
   "cell_type": "code",
   "execution_count": 7,
   "metadata": {
    "collapsed": true
   },
   "outputs": [],
   "source": [
    "#call function to get the datat\n",
    "measurements_df=precipitation_data()"
   ]
  },
  {
   "cell_type": "code",
   "execution_count": 8,
   "metadata": {},
   "outputs": [
    {
     "data": {
      "text/html": [
       "<div>\n",
       "<style>\n",
       "    .dataframe thead tr:only-child th {\n",
       "        text-align: right;\n",
       "    }\n",
       "\n",
       "    .dataframe thead th {\n",
       "        text-align: left;\n",
       "    }\n",
       "\n",
       "    .dataframe tbody tr th {\n",
       "        vertical-align: top;\n",
       "    }\n",
       "</style>\n",
       "<table border=\"1\" class=\"dataframe\">\n",
       "  <thead>\n",
       "    <tr style=\"text-align: right;\">\n",
       "      <th></th>\n",
       "      <th>prcp</th>\n",
       "    </tr>\n",
       "    <tr>\n",
       "      <th>date</th>\n",
       "      <th></th>\n",
       "    </tr>\n",
       "  </thead>\n",
       "  <tbody>\n",
       "    <tr>\n",
       "      <th>2017-02-05</th>\n",
       "      <td>0.00</td>\n",
       "    </tr>\n",
       "    <tr>\n",
       "      <th>2017-02-06</th>\n",
       "      <td>0.00</td>\n",
       "    </tr>\n",
       "    <tr>\n",
       "      <th>2017-02-07</th>\n",
       "      <td>0.51</td>\n",
       "    </tr>\n",
       "    <tr>\n",
       "      <th>2017-02-08</th>\n",
       "      <td>0.00</td>\n",
       "    </tr>\n",
       "    <tr>\n",
       "      <th>2017-02-09</th>\n",
       "      <td>0.00</td>\n",
       "    </tr>\n",
       "  </tbody>\n",
       "</table>\n",
       "</div>"
      ],
      "text/plain": [
       "            prcp\n",
       "date            \n",
       "2017-02-05  0.00\n",
       "2017-02-06  0.00\n",
       "2017-02-07  0.51\n",
       "2017-02-08  0.00\n",
       "2017-02-09  0.00"
      ]
     },
     "execution_count": 8,
     "metadata": {},
     "output_type": "execute_result"
    }
   ],
   "source": [
    "measurements_df.head()"
   ]
  },
  {
   "cell_type": "code",
   "execution_count": 9,
   "metadata": {},
   "outputs": [
    {
     "data": {
      "image/png": "[encoded data removed]",
      "text/plain": [
       "<matplotlib.figure.Figure at 0x9b093c8ef0>"
      ]
     },
     "metadata": {},
     "output_type": "display_data"
    }
   ],
   "source": [
    "#Plot graph statistics for the precipitation data\n",
    "measurements_df = precipitation_data()\n",
    "measurements_df.plot(kind=\"line\",linewidth=4,figsize=(15,10))\n",
    "plt.style.use('fivethirtyeight')\n",
    "\n",
    "matplotlib.rcParams.update({'font.size': 10})\n",
    "plt.xlabel(\"Date\")\n",
    "plt.ylabel(\"Precipitation\")\n",
    "plt.title(f\"Precipitation analysis of past year\")\n",
    "plt.xticks(rotation=45)\n",
    "plt.legend([\"Precipitation\"])\n",
    "plt.tight_layout()\n",
    "plt.savefig(\"PrecipitationAnalysis_Hawaii.png\")\n",
    "plt.show()\n"
   ]
  },
  {
   "cell_type": "markdown",
   "metadata": {},
   "source": [
    "### Station Analysis"
   ]
  },
  {
   "cell_type": "code",
   "execution_count": 10,
   "metadata": {
    "collapsed": true
   },
   "outputs": [],
   "source": [
    "#query to calculate the total number of stations.\n",
    "total_stations = session.query(Stations).distinct().count()"
   ]
  },
  {
   "cell_type": "code",
   "execution_count": 11,
   "metadata": {},
   "outputs": [
    {
     "data": {
      "text/plain": [
       "9"
      ]
     },
     "execution_count": 11,
     "metadata": {},
     "output_type": "execute_result"
    }
   ],
   "source": [
    "total_stations"
   ]
  },
  {
   "cell_type": "code",
   "execution_count": 12,
   "metadata": {},
   "outputs": [
    {
     "data": {
      "text/plain": [
       "[('USC00519397', 'WAIKIKI 717.2, HI US', 21.2716, -157.8168, 3.0),\n",
       " ('USC00513117', 'KANEOHE 838.1, HI US', 21.4234, -157.8015, 14.6),\n",
       " ('USC00514830', 'KUALOA RANCH HEADQUARTERS 886.9, HI US', 21.5213, -157.8374, 7.0),\n",
       " ('USC00517948', 'PEARL CITY, HI US', 21.3934, -157.9751, 11.9),\n",
       " ('USC00518838', 'UPPER WAHIAWA 874.3, HI US', 21.4992, -158.0111, 306.6),\n",
       " ('USC00519523', 'WAIMANALO EXPERIMENTAL FARM, HI US', 21.33556, -157.71139, 19.5),\n",
       " ('USC00519281', 'WAIHEE 837.5, HI US', 21.45167, -157.84888999999995, 32.9),\n",
       " ('USC00511918', 'HONOLULU OBSERVATORY 702.2, HI US', 21.3152, -157.9992, 0.9),\n",
       " ('USC00516128', 'MANOA LYON ARBO 785.2, HI US', 21.3331, -157.8025, 152.4)]"
      ]
     },
     "execution_count": 12,
     "metadata": {},
     "output_type": "execute_result"
    }
   ],
   "source": [
    "conn = engine.connect()\n",
    "conn.execute(\"select * from stations \").fetchall()"
   ]
  },
  {
   "cell_type": "code",
   "execution_count": 13,
   "metadata": {
    "collapsed": true
   },
   "outputs": [],
   "source": [
    "# sql query :\n",
    "#select Stations.name,Stations.station,count(measurements.id) as countM from measurements join stations\n",
    "#on stations.station = measurements.station\n",
    "#group by stations.name,stations.station\n",
    "#order  by countM desc\n",
    "\n",
    "\n",
    "# Get the list of descending order obervation station.Highest first\n",
    "def station_whighfreq():\n",
    "    active_stations = session.query(Stations.name,Stations.station,label('number_of_obs',func.count(Measurements.id))).\\\n",
    "                    filter(Measurements.station == Stations.station).group_by(Stations.name,Stations.station).order_by(func.count(Measurements.id).desc())\n",
    "    \n",
    "    active_station_records = []\n",
    "    for station in active_stations:\n",
    "        active_station_records.append(station._asdict())\n",
    "\n",
    "    active_station_df = pd.DataFrame.from_records(active_station_records)\n",
    "    return active_station_df"
   ]
  },
  {
   "cell_type": "code",
   "execution_count": 14,
   "metadata": {},
   "outputs": [
    {
     "data": {
      "text/html": [
       "<div>\n",
       "<style>\n",
       "    .dataframe thead tr:only-child th {\n",
       "        text-align: right;\n",
       "    }\n",
       "\n",
       "    .dataframe thead th {\n",
       "        text-align: left;\n",
       "    }\n",
       "\n",
       "    .dataframe tbody tr th {\n",
       "        vertical-align: top;\n",
       "    }\n",
       "</style>\n",
       "<table border=\"1\" class=\"dataframe\">\n",
       "  <thead>\n",
       "    <tr style=\"text-align: right;\">\n",
       "      <th></th>\n",
       "      <th>name</th>\n",
       "      <th>number_of_obs</th>\n",
       "      <th>station</th>\n",
       "    </tr>\n",
       "  </thead>\n",
       "  <tbody>\n",
       "    <tr>\n",
       "      <th>0</th>\n",
       "      <td>WAIHEE 837.5, HI US</td>\n",
       "      <td>2772</td>\n",
       "      <td>USC00519281</td>\n",
       "    </tr>\n",
       "    <tr>\n",
       "      <th>1</th>\n",
       "      <td>WAIKIKI 717.2, HI US</td>\n",
       "      <td>2724</td>\n",
       "      <td>USC00519397</td>\n",
       "    </tr>\n",
       "    <tr>\n",
       "      <th>2</th>\n",
       "      <td>KANEOHE 838.1, HI US</td>\n",
       "      <td>2709</td>\n",
       "      <td>USC00513117</td>\n",
       "    </tr>\n",
       "    <tr>\n",
       "      <th>3</th>\n",
       "      <td>WAIMANALO EXPERIMENTAL FARM, HI US</td>\n",
       "      <td>2669</td>\n",
       "      <td>USC00519523</td>\n",
       "    </tr>\n",
       "    <tr>\n",
       "      <th>4</th>\n",
       "      <td>MANOA LYON ARBO 785.2, HI US</td>\n",
       "      <td>2612</td>\n",
       "      <td>USC00516128</td>\n",
       "    </tr>\n",
       "    <tr>\n",
       "      <th>5</th>\n",
       "      <td>KUALOA RANCH HEADQUARTERS 886.9, HI US</td>\n",
       "      <td>2202</td>\n",
       "      <td>USC00514830</td>\n",
       "    </tr>\n",
       "    <tr>\n",
       "      <th>6</th>\n",
       "      <td>HONOLULU OBSERVATORY 702.2, HI US</td>\n",
       "      <td>1979</td>\n",
       "      <td>USC00511918</td>\n",
       "    </tr>\n",
       "    <tr>\n",
       "      <th>7</th>\n",
       "      <td>PEARL CITY, HI US</td>\n",
       "      <td>1372</td>\n",
       "      <td>USC00517948</td>\n",
       "    </tr>\n",
       "    <tr>\n",
       "      <th>8</th>\n",
       "      <td>UPPER WAHIAWA 874.3, HI US</td>\n",
       "      <td>511</td>\n",
       "      <td>USC00518838</td>\n",
       "    </tr>\n",
       "  </tbody>\n",
       "</table>\n",
       "</div>"
      ],
      "text/plain": [
       "                                     name  number_of_obs      station\n",
       "0                     WAIHEE 837.5, HI US           2772  USC00519281\n",
       "1                    WAIKIKI 717.2, HI US           2724  USC00519397\n",
       "2                    KANEOHE 838.1, HI US           2709  USC00513117\n",
       "3      WAIMANALO EXPERIMENTAL FARM, HI US           2669  USC00519523\n",
       "4            MANOA LYON ARBO 785.2, HI US           2612  USC00516128\n",
       "5  KUALOA RANCH HEADQUARTERS 886.9, HI US           2202  USC00514830\n",
       "6       HONOLULU OBSERVATORY 702.2, HI US           1979  USC00511918\n",
       "7                       PEARL CITY, HI US           1372  USC00517948\n",
       "8              UPPER WAHIAWA 874.3, HI US            511  USC00518838"
      ]
     },
     "execution_count": 14,
     "metadata": {},
     "output_type": "execute_result"
    }
   ],
   "source": [
    "#Get the highest station_id ,List the stations and observation counts in descending order\n",
    "active_station_df= station_whighfreq()\n",
    "active_station_df"
   ]
  },
  {
   "cell_type": "code",
   "execution_count": 15,
   "metadata": {
    "collapsed": true
   },
   "outputs": [],
   "source": [
    "#Get the station_id and name for the station has the highest number of observations\n",
    "freq_station = {'id':\"\",'name':\"\"}\n",
    "freq_station['id'] = active_station_df.iloc[:1]['station'][0]\n",
    "freq_station['name'] = active_station_df.iloc[:1]['name'][0]"
   ]
  },
  {
   "cell_type": "code",
   "execution_count": 16,
   "metadata": {},
   "outputs": [
    {
     "data": {
      "text/plain": [
       "'USC00519281'"
      ]
     },
     "execution_count": 16,
     "metadata": {},
     "output_type": "execute_result"
    }
   ],
   "source": [
    "freq_station['id']"
   ]
  },
  {
   "cell_type": "code",
   "execution_count": 17,
   "metadata": {},
   "outputs": [
    {
     "data": {
      "text/plain": [
       "[(1, 'USC00519397', '2010-01-01', 0.08, 65),\n",
       " (2, 'USC00519397', '2010-01-02', 0.0, 63),\n",
       " (3, 'USC00519397', '2010-01-03', 0.0, 74),\n",
       " (4, 'USC00519397', '2010-01-04', 0.0, 76),\n",
       " (5, 'USC00519397', '2010-01-06', 0.0, 73),\n",
       " (6, 'USC00519397', '2010-01-07', 0.06, 70),\n",
       " (7, 'USC00519397', '2010-01-08', 0.0, 64),\n",
       " (8, 'USC00519397', '2010-01-09', 0.0, 68),\n",
       " (9, 'USC00519397', '2010-01-10', 0.0, 73),\n",
       " (10, 'USC00519397', '2010-01-11', 0.01, 64)]"
      ]
     },
     "execution_count": 17,
     "metadata": {},
     "output_type": "execute_result"
    }
   ],
   "source": [
    "conn.execute(\"select * from Measurements limit 10 \").fetchall()"
   ]
  },
  {
   "cell_type": "code",
   "execution_count": 18,
   "metadata": {
    "collapsed": true
   },
   "outputs": [],
   "source": [
    "def getstationslist():\n",
    "    active_station_df = stations_wfrequency()\n",
    "    stations = active_station_df[['name','station']]\n",
    "    return stations"
   ]
  },
  {
   "cell_type": "code",
   "execution_count": 19,
   "metadata": {
    "collapsed": true
   },
   "outputs": [],
   "source": [
    "# last 12 months of temperature observation data (tobs) for the station with highest frequency\n",
    "def temp_data():\n",
    "    #Get date for last year \n",
    "    current_time = datetime.now()\n",
    "    past_year = current_time - timedelta(days=365)\n",
    "    print(current_time)\n",
    "    print(past_year)\n",
    "    #add the most frequesncy station_id\n",
    "    freq_station_id = freq_station['id']\n",
    "    \n",
    "    temp_year = session.query(Measurements.date,Measurements.tobs).filter(Measurements.station == freq_station_id).\\\n",
    "    filter(Measurements.date > past_year).all()\n",
    "    \n",
    "    #created dictionary to get the data\n",
    "    measure_records = []\n",
    "    for measure in temp_year:\n",
    "        measure_records.append(measure._asdict())\n",
    "    \n",
    "    #dictionary to dataframe\n",
    "    temp_df = pd.DataFrame.from_records(measure_records)\n",
    "    temp_df = temp_df.set_index('date')\n",
    "\n",
    "    return temp_df\n"
   ]
  },
  {
   "cell_type": "code",
   "execution_count": 20,
   "metadata": {},
   "outputs": [
    {
     "name": "stdout",
     "output_type": "stream",
     "text": [
      "2018-02-04 20:00:45.081289\n",
      "2017-02-04 20:00:45.081289\n"
     ]
    },
    {
     "data": {
      "text/html": [
       "<div>\n",
       "<style>\n",
       "    .dataframe thead tr:only-child th {\n",
       "        text-align: right;\n",
       "    }\n",
       "\n",
       "    .dataframe thead th {\n",
       "        text-align: left;\n",
       "    }\n",
       "\n",
       "    .dataframe tbody tr th {\n",
       "        vertical-align: top;\n",
       "    }\n",
       "</style>\n",
       "<table border=\"1\" class=\"dataframe\">\n",
       "  <thead>\n",
       "    <tr style=\"text-align: right;\">\n",
       "      <th></th>\n",
       "      <th>tobs</th>\n",
       "    </tr>\n",
       "    <tr>\n",
       "      <th>date</th>\n",
       "      <th></th>\n",
       "    </tr>\n",
       "  </thead>\n",
       "  <tbody>\n",
       "    <tr>\n",
       "      <th>2017-02-05</th>\n",
       "      <td>73</td>\n",
       "    </tr>\n",
       "    <tr>\n",
       "      <th>2017-02-06</th>\n",
       "      <td>75</td>\n",
       "    </tr>\n",
       "    <tr>\n",
       "      <th>2017-02-07</th>\n",
       "      <td>64</td>\n",
       "    </tr>\n",
       "    <tr>\n",
       "      <th>2017-02-08</th>\n",
       "      <td>59</td>\n",
       "    </tr>\n",
       "    <tr>\n",
       "      <th>2017-02-09</th>\n",
       "      <td>59</td>\n",
       "    </tr>\n",
       "  </tbody>\n",
       "</table>\n",
       "</div>"
      ],
      "text/plain": [
       "            tobs\n",
       "date            \n",
       "2017-02-05    73\n",
       "2017-02-06    75\n",
       "2017-02-07    64\n",
       "2017-02-08    59\n",
       "2017-02-09    59"
      ]
     },
     "execution_count": 20,
     "metadata": {},
     "output_type": "execute_result"
    }
   ],
   "source": [
    "temperature_df=temp_data()\n",
    "temperature_df.head()"
   ]
  },
  {
   "cell_type": "code",
   "execution_count": 21,
   "metadata": {},
   "outputs": [
    {
     "data": {
      "image/png": "[encoded data removed]",
      "text/plain": [
       "<matplotlib.figure.Figure at 0x9b09929ba8>"
      ]
     },
     "metadata": {},
     "output_type": "display_data"
    }
   ],
   "source": [
    "#Plot the results as a histogram with bins=12.\n",
    "import seaborn as sns\n",
    "\n",
    "#sns.distplot(temperature_df.tobs)\n",
    "sns.distplot(temperature_df, bins=12, kde=False)\n",
    "#temperature_df.plot(kind=\"hist\",linewidth=4,figsize=(10,5))\n",
    "plt.style.use('fivethirtyeight')\n",
    "\n",
    "plt.ylabel(\"Temperature\")\n",
    "plt.title(f\"Temperature analysis of most frequent station\")\n",
    "plt.xticks(rotation=45)\n",
    "plt.legend([\"Temperature\"])\n",
    "plt.tight_layout()\n",
    "plt.savefig(\"TemperatureAnalysis_Hawaii.png\")\n",
    "plt.show()"
   ]
  },
  {
   "cell_type": "markdown",
   "metadata": {},
   "source": [
    "### Temperature Analysis"
   ]
  },
  {
   "cell_type": "code",
   "execution_count": 22,
   "metadata": {
    "collapsed": true
   },
   "outputs": [],
   "source": [
    "#Write a function called calc_temps that will accept a start date and end date in the format %Y-%m-%d \n",
    "#and return the minimum, average, and maximum temperatures for that range of dates.\n",
    "startdate = \"2016-01-02\"\n",
    "enddate = \"2017-01-20\"\n",
    "\n",
    "def calc_temps(startdate,enddate):\n",
    "    temperature_vacation = session.query(label('max_temp',func.max(Measurements.tobs)),\\\n",
    "                                     label('min_temp',func.min(Measurements.tobs)),\\\n",
    "                                     label('avg_temp',func.avg(Measurements.tobs))).\\\n",
    "                    filter(Measurements.date >= startdate).\\\n",
    "                    filter(Measurements.date <= enddate )\n",
    "\n",
    "    Max_temp = temperature_vacation[0].max_temp\n",
    "    Min_temp = temperature_vacation[0].min_temp\n",
    "    Avg_temp = temperature_vacation[0].avg_temp\n",
    "\n",
    "    print(\"Tempture for date range:\",Max_temp ,Min_temp,Avg_temp) \n",
    "    \n"
   ]
  },
  {
   "cell_type": "code",
   "execution_count": 27,
   "metadata": {},
   "outputs": [
    {
     "name": "stdout",
     "output_type": "stream",
     "text": [
      "Enter End date in the format %Y-%m-%d2017-01-02\n",
      "Enter End date in the format %Y-%m-%d2017-02-20\n",
      "Tempture for date range: 81 59 69.80718954248366\n"
     ]
    }
   ],
   "source": [
    "yourstartdate=datetime.strptime(input('Enter End date in the format %Y-%m-%d'), '%Y-%m-%d')\n",
    "#startdate = \"2018-01-02\"\n",
    "yourenddate=datetime.strptime(input('Enter End date in the format %Y-%m-%d'), '%Y-%m-%d')\n",
    "calc_temps(yourstartdate,yourenddate)"
   ]
  },
  {
   "cell_type": "code",
   "execution_count": 28,
   "metadata": {
    "collapsed": true
   },
   "outputs": [],
   "source": [
    "#get the date in yyyy-mm-dd format and show \"last year\" same date range\n",
    "#min and max and average tempture for that and show data for previous year\n",
    "def calc_tempsLast(startdate,enddate):\n",
    "    #for last year do-365days\n",
    "    compstart = startdate - timedelta(days=365)\n",
    "    compend = enddate - timedelta(days=365)\n",
    "\n",
    "    temperature_vacation = session.query(label('max_temp',func.max(Measurements.tobs)),\\\n",
    "                                     label('min_temp',func.min(Measurements.tobs)),\\\n",
    "                                     label('avg_temp',func.avg(Measurements.tobs))).\\\n",
    "                    filter(Measurements.date >= compstart).\\\n",
    "                    filter(Measurements.date <= compend )\n",
    "\n",
    "    Max_temp = temperature_vacation[0].max_temp\n",
    "    Min_temp = temperature_vacation[0].min_temp\n",
    "    Avg_temp = temperature_vacation[0].avg_temp\n",
    "\n",
    "    print(\"Last year tempature for same date range :Max Temp,MIN temp,Avg temp :\", Max_temp,Min_temp,Avg_temp) \n",
    "    \n",
    "    yerror = Max_temp - Min_temp\n",
    "    \n",
    "    barvalue = [Avg_temp]\n",
    "    xvals = range(len(barvalue))\n",
    "    matplotlib.rcParams.update({'font.size': 12})\n",
    "    \n",
    "    fig,ax = plt.subplots(figsize=(5,8))\n",
    "    ax.bar(xvals, barvalue, yerr=yerror, color='g',alpha=0.6)\n",
    "    ax.set_xticks([1]) \n",
    "    plt.xlabel(\"Vacation time period\")\n",
    "    plt.ylabel(\"Temperature\")\n",
    "    plt.title(\"Trip average temperature\")\n",
    "    plt.tight_layout()\n",
    "    plt.savefig(\"Tripavg.png\")\n",
    "    \n",
    "    plt.show()\n",
    "    \n",
    "    "
   ]
  },
  {
   "cell_type": "code",
   "execution_count": 29,
   "metadata": {},
   "outputs": [
    {
     "name": "stdout",
     "output_type": "stream",
     "text": [
      "Enter End date in the format m/d/y2018-01-02\n",
      "Enter End date in the format m/d/y2018-01-20\n",
      "2018-01-02 00:00:00\n",
      "2018-01-20 00:00:00\n"
     ]
    }
   ],
   "source": [
    "#Get input from user for date range\n",
    "startdate=datetime.strptime(input('Enter End date in the format m/d/y'), '%Y-%m-%d')\n",
    "#startdate = \"2018-01-02\"\n",
    "enddate=datetime.strptime(input('Enter End date in the format m/d/y'), '%Y-%m-%d')\n",
    "#enddate = \"2018-01-20\"\n",
    "print(startdate)\n",
    "print(enddate)"
   ]
  },
  {
   "cell_type": "code",
   "execution_count": 30,
   "metadata": {},
   "outputs": [
    {
     "name": "stdout",
     "output_type": "stream",
     "text": [
      "Last year tempature for same date range :Max Temp,MIN temp,Avg temp : 81 60 69.51351351351352\n"
     ]
    },
    {
     "data": {
      "image/png": "[encoded data removed]",
      "text/plain": [
       "<matplotlib.figure.Figure at 0x9b0ac36898>"
      ]
     },
     "metadata": {},
     "output_type": "display_data"
    }
   ],
   "source": [
    "#Call function to get lastyear data \n",
    "calc_tempsLast(startdate,enddate)"
   ]
  },
  {
   "cell_type": "code",
   "execution_count": 31,
   "metadata": {},
   "outputs": [
    {
     "name": "stdout",
     "output_type": "stream",
     "text": [
      "2018-02-04 20:04:04.929176\n",
      "2017-02-04 20:04:04.929176\n"
     ]
    }
   ],
   "source": [
    "current_time = datetime.now()\n",
    "print(current_time)\n",
    "past_year = current_time - timedelta(days=365)\n",
    "print(past_year)"
   ]
  },
  {
   "cell_type": "code",
   "execution_count": 32,
   "metadata": {},
   "outputs": [
    {
     "name": "stdout",
     "output_type": "stream",
     "text": [
      "Sun Feb  4 20:04:13 2018\n",
      "02/04/18\n",
      "20:04:13\n",
      "08:04:13 PM\n",
      "2018/02/04\n",
      "20:04\n"
     ]
    }
   ],
   "source": [
    "#differnet formates for dates\n",
    "now= datetime.now() #get the current date and time\n",
    "#%c - local date and time, %x-local's date, %X- local's time\n",
    "print(now.strftime(\"%c\"))\n",
    "print(now.strftime(\"%x\"))\n",
    "print(now.strftime(\"%X\"))\n",
    "##### Time Formatting ####\n",
    "#%I/%H - 12/24 Hour, %M - minute, %S - second, %p - local's AM/PM\n",
    "print(now.strftime(\"%I:%M:%S %p\")) # 12-Hour:Minute:Second:AM\n",
    "print(now.strftime(\"%Y/%m/%d\")) # 12-Hour:Minute:Second:AM\n",
    "print(now.strftime(\"%H:%M\")) # 24-Hour:Minute"
   ]
  },
  {
   "cell_type": "markdown",
   "metadata": {},
   "source": [
    "### Optional Recommended Analysis"
   ]
  },
  {
   "cell_type": "code",
   "execution_count": 33,
   "metadata": {
    "collapsed": true
   },
   "outputs": [],
   "source": [
    "#Calcualte the rainfall per weather station using the previous year's matching dates.\n",
    "#get the date in yyyy-mm-dd format and show \"last year\" same date range\n",
    "#min and max and average tempture for that and show data for previous year\n",
    "def calcrainfalll(startdate,enddate):\n",
    "    #for -365 for last year dates\n",
    "    compstart = startdate - timedelta(days=365)\n",
    "    compend = enddate - timedelta(days=365)\n",
    "    \n",
    "    rainfall_per_station = session.query(Stations.name,Stations.station,label('avg_rainfall',func.avg(Measurements.prcp))).\\\n",
    "                    filter(Measurements.station == Stations.station).\\\n",
    "                    filter(Measurements.date >= compstart).\\\n",
    "                    filter(Measurements.date <= compend).group_by(Stations.name,Stations.station).order_by(func.avg(Measurements.prcp))\n",
    "    \n",
    "    active_station_records = []\n",
    "    for station in rainfall_per_station:\n",
    "        active_station_records.append(station._asdict())\n",
    "\n",
    "    rainfall_df = pd.DataFrame.from_records(active_station_records)\n",
    "         \n",
    "    return rainfall_df  \n"
   ]
  },
  {
   "cell_type": "code",
   "execution_count": 34,
   "metadata": {},
   "outputs": [
    {
     "name": "stdout",
     "output_type": "stream",
     "text": [
      "Enter End date in the format yyyy/mm/dd : 2018-01-02\n",
      "Enter End date in the format yyyy/mm/dd : 2018-02-20\n",
      "2018-01-02 00:00:00\n",
      "2018-02-20 00:00:00\n"
     ]
    },
    {
     "data": {
      "text/html": [
       "<div>\n",
       "<style>\n",
       "    .dataframe thead tr:only-child th {\n",
       "        text-align: right;\n",
       "    }\n",
       "\n",
       "    .dataframe thead th {\n",
       "        text-align: left;\n",
       "    }\n",
       "\n",
       "    .dataframe tbody tr th {\n",
       "        vertical-align: top;\n",
       "    }\n",
       "</style>\n",
       "<table border=\"1\" class=\"dataframe\">\n",
       "  <thead>\n",
       "    <tr style=\"text-align: right;\">\n",
       "      <th></th>\n",
       "      <th>avg_rainfall</th>\n",
       "      <th>name</th>\n",
       "      <th>station</th>\n",
       "    </tr>\n",
       "  </thead>\n",
       "  <tbody>\n",
       "    <tr>\n",
       "      <th>0</th>\n",
       "      <td>0.001724</td>\n",
       "      <td>PEARL CITY, HI US</td>\n",
       "      <td>USC00517948</td>\n",
       "    </tr>\n",
       "    <tr>\n",
       "      <th>1</th>\n",
       "      <td>0.080204</td>\n",
       "      <td>WAIKIKI 717.2, HI US</td>\n",
       "      <td>USC00519397</td>\n",
       "    </tr>\n",
       "    <tr>\n",
       "      <th>2</th>\n",
       "      <td>0.160244</td>\n",
       "      <td>KUALOA RANCH HEADQUARTERS 886.9, HI US</td>\n",
       "      <td>USC00514830</td>\n",
       "    </tr>\n",
       "    <tr>\n",
       "      <th>3</th>\n",
       "      <td>0.177755</td>\n",
       "      <td>KANEOHE 838.1, HI US</td>\n",
       "      <td>USC00513117</td>\n",
       "    </tr>\n",
       "    <tr>\n",
       "      <th>4</th>\n",
       "      <td>0.177755</td>\n",
       "      <td>WAIHEE 837.5, HI US</td>\n",
       "      <td>USC00519281</td>\n",
       "    </tr>\n",
       "    <tr>\n",
       "      <th>5</th>\n",
       "      <td>0.202143</td>\n",
       "      <td>WAIMANALO EXPERIMENTAL FARM, HI US</td>\n",
       "      <td>USC00519523</td>\n",
       "    </tr>\n",
       "    <tr>\n",
       "      <th>6</th>\n",
       "      <td>0.258723</td>\n",
       "      <td>MANOA LYON ARBO 785.2, HI US</td>\n",
       "      <td>USC00516128</td>\n",
       "    </tr>\n",
       "  </tbody>\n",
       "</table>\n",
       "</div>"
      ],
      "text/plain": [
       "   avg_rainfall                                    name      station\n",
       "0      0.001724                       PEARL CITY, HI US  USC00517948\n",
       "1      0.080204                    WAIKIKI 717.2, HI US  USC00519397\n",
       "2      0.160244  KUALOA RANCH HEADQUARTERS 886.9, HI US  USC00514830\n",
       "3      0.177755                    KANEOHE 838.1, HI US  USC00513117\n",
       "4      0.177755                     WAIHEE 837.5, HI US  USC00519281\n",
       "5      0.202143      WAIMANALO EXPERIMENTAL FARM, HI US  USC00519523\n",
       "6      0.258723            MANOA LYON ARBO 785.2, HI US  USC00516128"
      ]
     },
     "execution_count": 34,
     "metadata": {},
     "output_type": "execute_result"
    }
   ],
   "source": [
    "#Get input from user for date range\n",
    "rstartdate=datetime.strptime(input('Enter End date in the format yyyy/mm/dd : '), '%Y-%m-%d')\n",
    "#startdate = \"2018-01-02\"\n",
    "renddate=datetime.strptime(input('Enter End date in the format yyyy/mm/dd : '), '%Y-%m-%d')\n",
    "#enddate = \"2018-01-20\"\n",
    "print(rstartdate)\n",
    "print(renddate)\n",
    "\n",
    "calcrainfalll(rstartdate,renddate)\n",
    "   "
   ]
  },
  {
   "cell_type": "code",
   "execution_count": 35,
   "metadata": {
    "collapsed": true
   },
   "outputs": [],
   "source": [
    "#Calculate the daily normals. Normals are the averages for min, avg, and max temperatures.\n",
    "def dailynormals(startdate,enddate):\n",
    "    #get the date in m/d format and go back 365days\n",
    "    compstart = datetime.strptime(startdate,\"%m-%d\") - timedelta(days=365)\n",
    "    compend = datetime.strptime(enddate,\"%m-%d\") - timedelta(days=365)\n",
    "    #compstart = startdate - timedelta(days=365)\n",
    "    #compend = enddate - timedelta(days=365)\n",
    "    #replace year to2017 as the m/d give record1999\n",
    "    compstart = compstart.replace(year = 2017)\n",
    "    compend = compend.replace(year = 2017)\n",
    "        \n",
    "    daily_temperatures = session.query(Measurements.date,label('tmax',func.max(Measurements.tobs)),\\\n",
    "                                      label('tmin',func.min(Measurements.tobs)),\n",
    "                                      label('tavg',func.avg(Measurements.tobs)),).\\\n",
    "                    filter(Measurements.date >= compstart).\\\n",
    "                    filter(Measurements.date <= compend).group_by(Measurements.date).order_by(Measurements.date)\n",
    "    \n",
    "    daily_records = []\n",
    "    for station in  daily_temperatures:\n",
    "        daily_records.append(station._asdict())\n",
    "\n",
    "    dailytemp_df = pd.DataFrame.from_records(daily_records)\n",
    "         \n",
    "    return dailytemp_df "
   ]
  },
  {
   "cell_type": "code",
   "execution_count": 36,
   "metadata": {},
   "outputs": [
    {
     "name": "stdout",
     "output_type": "stream",
     "text": [
      "Enter End date in the format yyyy/mm/dd : 2018-01-02\n",
      "Enter End date in the format yyyy/mm/dd : 2018-02-20\n",
      "2018-01-02 00:00:00\n",
      "2018-02-20 00:00:00\n"
     ]
    }
   ],
   "source": [
    "#Get input from user for date range\n",
    "drstartdate=datetime.strptime(input('Enter End date in the format yyyy/mm/dd : '), '%Y-%m-%d')\n",
    "drenddate=datetime.strptime(input('Enter End date in the format yyyy/mm/dd : '), '%Y-%m-%d')\n",
    "print(drstartdate)\n",
    "print(drenddate)\n",
    "\n"
   ]
  },
  {
   "cell_type": "code",
   "execution_count": 38,
   "metadata": {},
   "outputs": [
    {
     "data": {
      "image/png": "[encoded data removed]",
      "text/plain": [
       "<matplotlib.figure.Figure at 0x9b0c12a160>"
      ]
     },
     "metadata": {},
     "output_type": "display_data"
    }
   ],
   "source": [
    "#Pandas to plot an area plot (stacked=False) for the daily normals.\n",
    "daily_df = dailynormals('01-01','01-10')\n",
    "daily_df.plot(kind='area',stacked=False,figsize=(10,5),alpha=0.50,cmap = cm.get_cmap('Paired'))\n",
    "\n",
    "plt.xlabel(\"Date\")\n",
    "plt.ylabel(\"Temperature\")\n",
    "plt.title(f\"Trip - Daily Normals\")\n",
    "plt.xticks(rotation=45)\n",
    "plt.tight_layout()\n",
    "plt.savefig(\"trip_dailynormals.png\")\n",
    "\n",
    "plt.show()"
   ]
  },
  {
   "cell_type": "code",
   "execution_count": null,
   "metadata": {
    "collapsed": true
   },
   "outputs": [],
   "source": []
  }
 ],
 "metadata": {
  "kernelspec": {
   "display_name": "Python 3",
   "language": "python",
   "name": "python3"
  },
  "language_info": {
   "codemirror_mode": {
    "name": "ipython",
    "version": 3
   },
   "file_extension": ".py",
   "mimetype": "text/x-python",
   "name": "python",
   "nbconvert_exporter": "python",
   "pygments_lexer": "ipython3",
   "version": "3.6.1"
  }
 },
 "nbformat": 4,
 "nbformat_minor": 2
}
